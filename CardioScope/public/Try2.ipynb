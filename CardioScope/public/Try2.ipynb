{
 "cells": [
  {
   "cell_type": "code",
   "execution_count": 1,
   "metadata": {
    "colab": {
     "base_uri": "https://localhost:8080/"
    },
    "executionInfo": {
     "elapsed": 9384,
     "status": "ok",
     "timestamp": 1740721704869,
     "user": {
      "displayName": "Pratik Kumbhar",
      "userId": "07678728570596162436"
     },
     "user_tz": -330
    },
    "id": "6Qp_ZIPHGN-g",
    "outputId": "cc170794-9834-4c55-edb5-16fd4d4ba1f1"
   },
   "outputs": [],
   "source": [
    "# pip install librosa numpy pandas tensorflow scikit-learn matplotlib seaborn"
   ]
  },
  {
   "cell_type": "code",
   "execution_count": null,
   "metadata": {
    "colab": {
     "base_uri": "https://localhost:8080/",
     "height": 410
    },
    "executionInfo": {
     "elapsed": 649,
     "status": "ok",
     "timestamp": 1740721953708,
     "user": {
      "displayName": "Pratik Kumbhar",
      "userId": "07678728570596162436"
     },
     "user_tz": -330
    },
    "id": "2pFANceWGy7x",
    "outputId": "86e34378-5cb9-4fce-8e1b-5ee872a5b280"
   },
   "outputs": [],
   "source": [
    "import librosa\n",
    "import librosa.display\n",
    "import numpy as np\n",
    "import matplotlib.pyplot as plt\n",
    "import os\n",
    "\n",
    "# Load an example heart sound\n",
    "file_path = \"data/heart_sounds/normal180.wav\"\n",
    "y, sr = librosa.load(file_path, sr=22050)  # Load with a fixed sample rate\n",
    "\n",
    "# Plot the waveform\n",
    "plt.figure(figsize=(10, 4))\n",
    "librosa.display.waveshow(y, sr=sr)\n",
    "plt.title(\"Heart Sound Waveform\")\n",
    "plt.xlabel(\"Time (s)\")\n",
    "plt.ylabel(\"Amplitude\")\n",
    "plt.show()\n"
   ]
  },
  {
   "cell_type": "code",
   "execution_count": null,
   "metadata": {
    "colab": {
     "base_uri": "https://localhost:8080/"
    },
    "executionInfo": {
     "elapsed": 2335,
     "status": "ok",
     "timestamp": 1740721981119,
     "user": {
      "displayName": "Pratik Kumbhar",
      "userId": "07678728570596162436"
     },
     "user_tz": -330
    },
    "id": "g2fxUmYwHSi6",
    "outputId": "9470e3ef-0384-4e53-a214-9742be19f44d"
   },
   "outputs": [
    {
     "name": "stdout",
     "output_type": "stream",
     "text": [
      "Extracted Features: [-496.71405     74.617935    63.60462     49.80565     37.305355\n",
      "   28.786545    24.45515     22.509977    20.628372    17.432358\n",
      "   13.123776     9.021458     6.4615273]\n"
     ]
    }
   ],
   "source": [
    "def extract_features(file_path):\n",
    "    y, sr = librosa.load(file_path, sr=22050)\n",
    "    mfcc = librosa.feature.mfcc(y=y, sr=sr, n_mfcc=13)  # Extract 13 MFCC features\n",
    "    mfcc_scaled = np.mean(mfcc.T, axis=0)  # Mean normalization\n",
    "    return mfcc_scaled\n",
    "\n",
    "# Example feature extraction\n",
    "features = extract_features(\"data/heart_sounds/normal1.wav\")\n",
    "print(\"Extracted Features:\", features)\n"
   ]
  },
  {
   "cell_type": "code",
   "execution_count": null,
   "metadata": {
    "colab": {
     "base_uri": "https://localhost:8080/"
    },
    "executionInfo": {
     "elapsed": 30693,
     "status": "ok",
     "timestamp": 1740723575512,
     "user": {
      "displayName": "Pratik Kumbhar",
      "userId": "07678728570596162436"
     },
     "user_tz": -330
    },
    "id": "KJ9cn9IoHbUn",
    "outputId": "35f1c002-f14f-4db7-d715-1cb416967004"
   },
   "outputs": [
    {
     "name": "stdout",
     "output_type": "stream",
     "text": [
      "Training Data Shape: (800, 13)\n",
      "Testing Data Shape: (200, 13)\n"
     ]
    }
   ],
   "source": [
    "import pandas as pd\n",
    "from sklearn.model_selection import train_test_split\n",
    "from sklearn.preprocessing import LabelEncoder\n",
    "\n",
    "# Load dataset CSV (Assume a dataset with 'filename' and 'label' columns)\n",
    "data = pd.read_csv(\"data/heart_sounds/metadata.csv\")\n",
    "\n",
    "# Extract features for all files\n",
    "X = np.array([extract_features(f\"data/heart_sounds/{file}\") for file in data[\"filename\"]])\n",
    "y = data[\"label\"].values\n",
    "\n",
    "# Encode labels (Healthy = 0, Diseased = 1)\n",
    "encoder = LabelEncoder()\n",
    "y = encoder.fit_transform(y)\n",
    "\n",
    "# Train-Test Split\n",
    "X_train, X_test, y_train, y_test = train_test_split(X, y, test_size=0.2, random_state=42)\n",
    "\n",
    "print(\"Training Data Shape:\", X_train.shape)\n",
    "print(\"Testing Data Shape:\", X_test.shape)\n"
   ]
  },
  {
   "cell_type": "code",
   "execution_count": null,
   "metadata": {
    "colab": {
     "base_uri": "https://localhost:8080/"
    },
    "executionInfo": {
     "elapsed": 19358,
     "status": "ok",
     "timestamp": 1740723663548,
     "user": {
      "displayName": "Pratik Kumbhar",
      "userId": "07678728570596162436"
     },
     "user_tz": -330
    },
    "id": "nhrWMJr7NtoZ",
    "outputId": "9e23887f-300a-4b69-8dd4-889b0763651b"
   },
   "outputs": [
    {
     "name": "stderr",
     "output_type": "stream",
     "text": [
      "c:\\Users\\gurav\\AppData\\Local\\Programs\\Python\\Python312\\Lib\\site-packages\\keras\\src\\layers\\core\\dense.py:87: UserWarning: Do not pass an `input_shape`/`input_dim` argument to a layer. When using Sequential models, prefer using an `Input(shape)` object as the first layer in the model instead.\n",
      "  super().__init__(activity_regularizer=activity_regularizer, **kwargs)\n"
     ]
    },
    {
     "name": "stdout",
     "output_type": "stream",
     "text": [
      "Epoch 1/30\n",
      "\u001b[1m50/50\u001b[0m \u001b[32m━━━━━━━━━━━━━━━━━━━━\u001b[0m\u001b[37m\u001b[0m \u001b[1m2s\u001b[0m 13ms/step - accuracy: 0.2116 - loss: -158.4301 - val_accuracy: 0.1650 - val_loss: -976.6160\n",
      "Epoch 2/30\n",
      "\u001b[1m50/50\u001b[0m \u001b[32m━━━━━━━━━━━━━━━━━━━━\u001b[0m\u001b[37m\u001b[0m \u001b[1m0s\u001b[0m 8ms/step - accuracy: 0.1910 - loss: -1822.0294 - val_accuracy: 0.1650 - val_loss: -5559.5293\n",
      "Epoch 3/30\n",
      "\u001b[1m50/50\u001b[0m \u001b[32m━━━━━━━━━━━━━━━━━━━━\u001b[0m\u001b[37m\u001b[0m \u001b[1m0s\u001b[0m 8ms/step - accuracy: 0.2201 - loss: -8770.3652 - val_accuracy: 0.1650 - val_loss: -20327.5527\n",
      "Epoch 4/30\n",
      "\u001b[1m50/50\u001b[0m \u001b[32m━━━━━━━━━━━━━━━━━━━━\u001b[0m\u001b[37m\u001b[0m \u001b[1m0s\u001b[0m 8ms/step - accuracy: 0.2034 - loss: -27843.6094 - val_accuracy: 0.1650 - val_loss: -52228.2617\n",
      "Epoch 5/30\n",
      "\u001b[1m50/50\u001b[0m \u001b[32m━━━━━━━━━━━━━━━━━━━━\u001b[0m\u001b[37m\u001b[0m \u001b[1m0s\u001b[0m 6ms/step - accuracy: 0.2176 - loss: -66249.3594 - val_accuracy: 0.1650 - val_loss: -111045.4766\n",
      "Epoch 6/30\n",
      "\u001b[1m50/50\u001b[0m \u001b[32m━━━━━━━━━━━━━━━━━━━━\u001b[0m\u001b[37m\u001b[0m \u001b[1m0s\u001b[0m 7ms/step - accuracy: 0.1963 - loss: -143763.2969 - val_accuracy: 0.1650 - val_loss: -203936.1875\n",
      "Epoch 7/30\n",
      "\u001b[1m50/50\u001b[0m \u001b[32m━━━━━━━━━━━━━━━━━━━━\u001b[0m\u001b[37m\u001b[0m \u001b[1m0s\u001b[0m 6ms/step - accuracy: 0.1784 - loss: -240779.8906 - val_accuracy: 0.1650 - val_loss: -332259.9062\n",
      "Epoch 8/30\n",
      "\u001b[1m50/50\u001b[0m \u001b[32m━━━━━━━━━━━━━━━━━━━━\u001b[0m\u001b[37m\u001b[0m \u001b[1m0s\u001b[0m 6ms/step - accuracy: 0.2028 - loss: -399644.5625 - val_accuracy: 0.1650 - val_loss: -511484.3750\n",
      "Epoch 9/30\n",
      "\u001b[1m50/50\u001b[0m \u001b[32m━━━━━━━━━━━━━━━━━━━━\u001b[0m\u001b[37m\u001b[0m \u001b[1m0s\u001b[0m 8ms/step - accuracy: 0.1995 - loss: -629698.1875 - val_accuracy: 0.1650 - val_loss: -741497.8125\n",
      "Epoch 10/30\n",
      "\u001b[1m50/50\u001b[0m \u001b[32m━━━━━━━━━━━━━━━━━━━━\u001b[0m\u001b[37m\u001b[0m \u001b[1m0s\u001b[0m 7ms/step - accuracy: 0.2042 - loss: -868337.6875 - val_accuracy: 0.1650 - val_loss: -1031238.8750\n",
      "Epoch 11/30\n",
      "\u001b[1m50/50\u001b[0m \u001b[32m━━━━━━━━━━━━━━━━━━━━\u001b[0m\u001b[37m\u001b[0m \u001b[1m0s\u001b[0m 8ms/step - accuracy: 0.1922 - loss: -1112252.8750 - val_accuracy: 0.1650 - val_loss: -1387821.8750\n",
      "Epoch 12/30\n",
      "\u001b[1m50/50\u001b[0m \u001b[32m━━━━━━━━━━━━━━━━━━━━\u001b[0m\u001b[37m\u001b[0m \u001b[1m1s\u001b[0m 10ms/step - accuracy: 0.2092 - loss: -1438543.0000 - val_accuracy: 0.1650 - val_loss: -1812750.2500\n",
      "Epoch 13/30\n",
      "\u001b[1m50/50\u001b[0m \u001b[32m━━━━━━━━━━━━━━━━━━━━\u001b[0m\u001b[37m\u001b[0m \u001b[1m1s\u001b[0m 10ms/step - accuracy: 0.2007 - loss: -1947667.6250 - val_accuracy: 0.1650 - val_loss: -2329280.5000\n",
      "Epoch 14/30\n",
      "\u001b[1m50/50\u001b[0m \u001b[32m━━━━━━━━━━━━━━━━━━━━\u001b[0m\u001b[37m\u001b[0m \u001b[1m1s\u001b[0m 11ms/step - accuracy: 0.2093 - loss: -2586574.7500 - val_accuracy: 0.1650 - val_loss: -2908003.7500\n",
      "Epoch 15/30\n",
      "\u001b[1m50/50\u001b[0m \u001b[32m━━━━━━━━━━━━━━━━━━━━\u001b[0m\u001b[37m\u001b[0m \u001b[1m1s\u001b[0m 12ms/step - accuracy: 0.2042 - loss: -3057943.0000 - val_accuracy: 0.1650 - val_loss: -3595041.5000\n",
      "Epoch 16/30\n",
      "\u001b[1m50/50\u001b[0m \u001b[32m━━━━━━━━━━━━━━━━━━━━\u001b[0m\u001b[37m\u001b[0m \u001b[1m1s\u001b[0m 10ms/step - accuracy: 0.2106 - loss: -3849080.7500 - val_accuracy: 0.1650 - val_loss: -4366404.0000\n",
      "Epoch 17/30\n",
      "\u001b[1m50/50\u001b[0m \u001b[32m━━━━━━━━━━━━━━━━━━━━\u001b[0m\u001b[37m\u001b[0m \u001b[1m1s\u001b[0m 12ms/step - accuracy: 0.2166 - loss: -4374123.0000 - val_accuracy: 0.1650 - val_loss: -5223118.0000\n",
      "Epoch 18/30\n",
      "\u001b[1m50/50\u001b[0m \u001b[32m━━━━━━━━━━━━━━━━━━━━\u001b[0m\u001b[37m\u001b[0m \u001b[1m1s\u001b[0m 12ms/step - accuracy: 0.2083 - loss: -5519900.5000 - val_accuracy: 0.1650 - val_loss: -6216429.0000\n",
      "Epoch 19/30\n",
      "\u001b[1m50/50\u001b[0m \u001b[32m━━━━━━━━━━━━━━━━━━━━\u001b[0m\u001b[37m\u001b[0m \u001b[1m1s\u001b[0m 13ms/step - accuracy: 0.2084 - loss: -6578528.0000 - val_accuracy: 0.1650 - val_loss: -7283609.5000\n",
      "Epoch 20/30\n",
      "\u001b[1m50/50\u001b[0m \u001b[32m━━━━━━━━━━━━━━━━━━━━\u001b[0m\u001b[37m\u001b[0m \u001b[1m1s\u001b[0m 13ms/step - accuracy: 0.2341 - loss: -7359710.5000 - val_accuracy: 0.1650 - val_loss: -8392174.0000\n",
      "Epoch 21/30\n",
      "\u001b[1m50/50\u001b[0m \u001b[32m━━━━━━━━━━━━━━━━━━━━\u001b[0m\u001b[37m\u001b[0m \u001b[1m1s\u001b[0m 12ms/step - accuracy: 0.2243 - loss: -8493771.0000 - val_accuracy: 0.1650 - val_loss: -9688445.0000\n",
      "Epoch 22/30\n",
      "\u001b[1m50/50\u001b[0m \u001b[32m━━━━━━━━━━━━━━━━━━━━\u001b[0m\u001b[37m\u001b[0m \u001b[1m1s\u001b[0m 13ms/step - accuracy: 0.1911 - loss: -11169954.0000 - val_accuracy: 0.1650 - val_loss: -11129021.0000\n",
      "Epoch 23/30\n",
      "\u001b[1m50/50\u001b[0m \u001b[32m━━━━━━━━━━━━━━━━━━━━\u001b[0m\u001b[37m\u001b[0m \u001b[1m1s\u001b[0m 12ms/step - accuracy: 0.1940 - loss: -11232604.0000 - val_accuracy: 0.1650 - val_loss: -12578021.0000\n",
      "Epoch 24/30\n",
      "\u001b[1m50/50\u001b[0m \u001b[32m━━━━━━━━━━━━━━━━━━━━\u001b[0m\u001b[37m\u001b[0m \u001b[1m1s\u001b[0m 11ms/step - accuracy: 0.1878 - loss: -13302589.0000 - val_accuracy: 0.1650 - val_loss: -14206400.0000\n",
      "Epoch 25/30\n",
      "\u001b[1m50/50\u001b[0m \u001b[32m━━━━━━━━━━━━━━━━━━━━\u001b[0m\u001b[37m\u001b[0m \u001b[1m1s\u001b[0m 11ms/step - accuracy: 0.2251 - loss: -13787055.0000 - val_accuracy: 0.1650 - val_loss: -15917043.0000\n",
      "Epoch 26/30\n",
      "\u001b[1m50/50\u001b[0m \u001b[32m━━━━━━━━━━━━━━━━━━━━\u001b[0m\u001b[37m\u001b[0m \u001b[1m0s\u001b[0m 4ms/step - accuracy: 0.2103 - loss: -16659932.0000 - val_accuracy: 0.1650 - val_loss: -17829112.0000\n",
      "Epoch 27/30\n",
      "\u001b[1m50/50\u001b[0m \u001b[32m━━━━━━━━━━━━━━━━━━━━\u001b[0m\u001b[37m\u001b[0m \u001b[1m0s\u001b[0m 7ms/step - accuracy: 0.2166 - loss: -18442294.0000 - val_accuracy: 0.1650 - val_loss: -19840392.0000\n",
      "Epoch 28/30\n",
      "\u001b[1m50/50\u001b[0m \u001b[32m━━━━━━━━━━━━━━━━━━━━\u001b[0m\u001b[37m\u001b[0m \u001b[1m0s\u001b[0m 6ms/step - accuracy: 0.1903 - loss: -23461710.0000 - val_accuracy: 0.1650 - val_loss: -22020534.0000\n",
      "Epoch 29/30\n",
      "\u001b[1m50/50\u001b[0m \u001b[32m━━━━━━━━━━━━━━━━━━━━\u001b[0m\u001b[37m\u001b[0m \u001b[1m0s\u001b[0m 6ms/step - accuracy: 0.1977 - loss: -23604960.0000 - val_accuracy: 0.1650 - val_loss: -24272250.0000\n",
      "Epoch 30/30\n",
      "\u001b[1m50/50\u001b[0m \u001b[32m━━━━━━━━━━━━━━━━━━━━\u001b[0m\u001b[37m\u001b[0m \u001b[1m0s\u001b[0m 4ms/step - accuracy: 0.2043 - loss: -27203128.0000 - val_accuracy: 0.1650 - val_loss: -26691888.0000\n"
     ]
    }
   ],
   "source": [
    "import tensorflow as tf\n",
    "from tensorflow import keras\n",
    "from tensorflow.keras import layers\n",
    "\n",
    "# Create a simple neural network\n",
    "model = keras.Sequential([\n",
    "    layers.Dense(128, activation='relu', input_shape=(13,)),  # 13 MFCC features\n",
    "    layers.Dropout(0.3),\n",
    "    layers.Dense(64, activation='relu'),\n",
    "    layers.Dropout(0.3),\n",
    "    layers.Dense(1, activation='sigmoid')  # Binary Classification\n",
    "])\n",
    "\n",
    "# Compile the model\n",
    "model.compile(optimizer='adam', loss='binary_crossentropy', metrics=['accuracy'])\n",
    "\n",
    "# Train the model\n",
    "history = model.fit(X_train, y_train, epochs=30, batch_size=16, validation_data=(X_test, y_test))\n"
   ]
  },
  {
   "cell_type": "code",
   "execution_count": null,
   "metadata": {
    "colab": {
     "base_uri": "https://localhost:8080/"
    },
    "executionInfo": {
     "elapsed": 638,
     "status": "ok",
     "timestamp": 1740723704573,
     "user": {
      "displayName": "Pratik Kumbhar",
      "userId": "07678728570596162436"
     },
     "user_tz": -330
    },
    "id": "21Nq5ulCN8G8",
    "outputId": "c8030ed6-ff83-4677-ab69-135b78ccf1ca"
   },
   "outputs": [
    {
     "name": "stdout",
     "output_type": "stream",
     "text": [
      "\u001b[1m1/7\u001b[0m \u001b[32m━━\u001b[0m\u001b[37m━━━━━━━━━━━━━━━━━━\u001b[0m \u001b[1m0s\u001b[0m 34ms/step - accuracy: 0.1562 - loss: -23254592.0000"
     ]
    },
    {
     "name": "stdout",
     "output_type": "stream",
     "text": [
      "\u001b[1m7/7\u001b[0m \u001b[32m━━━━━━━━━━━━━━━━━━━━\u001b[0m\u001b[37m\u001b[0m \u001b[1m0s\u001b[0m 5ms/step - accuracy: 0.1707 - loss: -26167830.0000 \n",
      "Test Accuracy: 0.17\n",
      "\u001b[1m7/7\u001b[0m \u001b[32m━━━━━━━━━━━━━━━━━━━━\u001b[0m\u001b[37m\u001b[0m \u001b[1m0s\u001b[0m 11ms/step\n",
      "              precision    recall  f1-score   support\n",
      "\n",
      "           0       0.00      0.00      0.00        44\n",
      "           1       0.17      1.00      0.28        33\n",
      "           2       0.00      0.00      0.00        48\n",
      "           3       0.00      0.00      0.00        37\n",
      "           4       0.00      0.00      0.00        38\n",
      "\n",
      "    accuracy                           0.17       200\n",
      "   macro avg       0.03      0.20      0.06       200\n",
      "weighted avg       0.03      0.17      0.05       200\n",
      "\n"
     ]
    },
    {
     "name": "stderr",
     "output_type": "stream",
     "text": [
      "c:\\Users\\gurav\\AppData\\Local\\Programs\\Python\\Python312\\Lib\\site-packages\\sklearn\\metrics\\_classification.py:1531: UndefinedMetricWarning: Precision is ill-defined and being set to 0.0 in labels with no predicted samples. Use `zero_division` parameter to control this behavior.\n",
      "  _warn_prf(average, modifier, f\"{metric.capitalize()} is\", len(result))\n",
      "c:\\Users\\gurav\\AppData\\Local\\Programs\\Python\\Python312\\Lib\\site-packages\\sklearn\\metrics\\_classification.py:1531: UndefinedMetricWarning: Precision is ill-defined and being set to 0.0 in labels with no predicted samples. Use `zero_division` parameter to control this behavior.\n",
      "  _warn_prf(average, modifier, f\"{metric.capitalize()} is\", len(result))\n",
      "c:\\Users\\gurav\\AppData\\Local\\Programs\\Python\\Python312\\Lib\\site-packages\\sklearn\\metrics\\_classification.py:1531: UndefinedMetricWarning: Precision is ill-defined and being set to 0.0 in labels with no predicted samples. Use `zero_division` parameter to control this behavior.\n",
      "  _warn_prf(average, modifier, f\"{metric.capitalize()} is\", len(result))\n"
     ]
    }
   ],
   "source": [
    "# Evaluate on test set\n",
    "test_loss, test_acc = model.evaluate(X_test, y_test)\n",
    "print(f\"Test Accuracy: {test_acc:.2f}\")\n",
    "\n",
    "# Make predictions\n",
    "y_pred = (model.predict(X_test) > 0.5).astype(\"int32\")\n",
    "\n",
    "# Classification Report\n",
    "from sklearn.metrics import classification_report\n",
    "print(classification_report(y_test, y_pred))\n"
   ]
  },
  {
   "cell_type": "code",
   "execution_count": null,
   "metadata": {
    "colab": {
     "base_uri": "https://localhost:8080/"
    },
    "executionInfo": {
     "elapsed": 3662,
     "status": "ok",
     "timestamp": 1740723797606,
     "user": {
      "displayName": "Pratik Kumbhar",
      "userId": "07678728570596162436"
     },
     "user_tz": -330
    },
    "id": "Dr0SZIuoOSAd",
    "outputId": "d8150357-7a10-4161-a848-b76bebdde44a"
   },
   "outputs": [
    {
     "name": "stdout",
     "output_type": "stream",
     "text": [
      "INFO:tensorflow:Assets written to: C:\\Users\\gurav\\AppData\\Local\\Temp\\tmpny_zcmxl\\assets\n"
     ]
    },
    {
     "name": "stderr",
     "output_type": "stream",
     "text": [
      "INFO:tensorflow:Assets written to: C:\\Users\\gurav\\AppData\\Local\\Temp\\tmpny_zcmxl\\assets\n"
     ]
    },
    {
     "name": "stdout",
     "output_type": "stream",
     "text": [
      "Saved artifact at 'C:\\Users\\gurav\\AppData\\Local\\Temp\\tmpny_zcmxl'. The following endpoints are available:\n",
      "\n",
      "* Endpoint 'serve'\n",
      "  args_0 (POSITIONAL_ONLY): TensorSpec(shape=(None, 13), dtype=tf.float32, name='keras_tensor')\n",
      "Output Type:\n",
      "  TensorSpec(shape=(None, 1), dtype=tf.float32, name=None)\n",
      "Captures:\n",
      "  2389395753488: TensorSpec(shape=(), dtype=tf.resource, name=None)\n",
      "  2389395754832: TensorSpec(shape=(), dtype=tf.resource, name=None)\n",
      "  2389395755408: TensorSpec(shape=(), dtype=tf.resource, name=None)\n",
      "  2389395754448: TensorSpec(shape=(), dtype=tf.resource, name=None)\n",
      "  2389395754256: TensorSpec(shape=(), dtype=tf.resource, name=None)\n",
      "  2389395755600: TensorSpec(shape=(), dtype=tf.resource, name=None)\n"
     ]
    }
   ],
   "source": [
    "converter = tf.lite.TFLiteConverter.from_keras_model(model)\n",
    "tflite_model = converter.convert()\n",
    "\n",
    "# Save the model\n",
    "with open(\"heart_model.tflite\", \"wb\") as f:\n",
    "    f.write(tflite_model)\n"
   ]
  },
  {
   "cell_type": "code",
   "execution_count": null,
   "metadata": {
    "colab": {
     "base_uri": "https://localhost:8080/"
    },
    "executionInfo": {
     "elapsed": 27296,
     "status": "ok",
     "timestamp": 1740724095238,
     "user": {
      "displayName": "Pratik Kumbhar",
      "userId": "07678728570596162436"
     },
     "user_tz": -330
    },
    "id": "NqPgxIe0PUe9",
    "outputId": "82900804-a6f5-4146-f553-8626d73d5019"
   },
   "outputs": [
    {
     "name": "stderr",
     "output_type": "stream",
     "text": [
      "100%|██████████| 1000/1000 [00:27<00:00, 36.68it/s]"
     ]
    },
    {
     "name": "stdout",
     "output_type": "stream",
     "text": [
      "✅ Feature extraction complete! Saved X.npy and y.npy.\n"
     ]
    },
    {
     "name": "stderr",
     "output_type": "stream",
     "text": [
      "\n"
     ]
    }
   ],
   "source": [
    "import os\n",
    "import librosa\n",
    "import numpy as np\n",
    "import pandas as pd\n",
    "from tqdm import tqdm  # Progress bar for processing\n",
    "\n",
    "# Path to dataset\n",
    "DATASET_PATH = \"data/heart_sounds/\"\n",
    "CSV_FILE = os.path.join(DATASET_PATH, \"metadata.csv\")\n",
    "\n",
    "# Load metadata file\n",
    "df = pd.read_csv(CSV_FILE)\n",
    "\n",
    "# Function to extract MFCC features from an audio file\n",
    "def extract_features(file_path, max_pad_length=50):\n",
    "    try:\n",
    "        y, sr = librosa.load(file_path, sr=22050)  # Load audio file\n",
    "        mfcc = librosa.feature.mfcc(y=y, sr=sr, n_mfcc=40)  # Extract 40 MFCCs\n",
    "        pad_width = max_pad_length - mfcc.shape[1]\n",
    "        if pad_width > 0:\n",
    "            mfcc = np.pad(mfcc, pad_width=((0, 0), (0, pad_width)), mode='constant')\n",
    "        else:\n",
    "            mfcc = mfcc[:, :max_pad_length]  # Trim to max_pad_length\n",
    "        return mfcc.flatten()  # Convert to 1D\n",
    "    except Exception as e:\n",
    "        print(f\"Error processing {file_path}: {e}\")\n",
    "        return np.zeros(40 * max_pad_length)  # Return empty feature if error\n",
    "\n",
    "# Process all audio files and extract features\n",
    "features = []\n",
    "labels = []\n",
    "\n",
    "for i, row in tqdm(df.iterrows(), total=len(df)):\n",
    "    file_name = row[\"filename\"]\n",
    "    label = row[\"label\"]\n",
    "    file_path = os.path.join(DATASET_PATH, file_name)\n",
    "\n",
    "    feature = extract_features(file_path)\n",
    "\n",
    "    features.append(feature)\n",
    "    labels.append(label)\n",
    "\n",
    "# Convert to numpy arrays\n",
    "X = np.array(features)\n",
    "y = np.array(labels)\n",
    "\n",
    "# Save features for future use\n",
    "np.save(os.path.join(DATASET_PATH, \"X.npy\"), X)\n",
    "np.save(os.path.join(DATASET_PATH, \"y.npy\"), y)\n",
    "\n",
    "print(\"✅ Feature extraction complete! Saved X.npy and y.npy.\")\n"
   ]
  },
  {
   "cell_type": "code",
   "execution_count": null,
   "metadata": {
    "colab": {
     "base_uri": "https://localhost:8080/"
    },
    "executionInfo": {
     "elapsed": 5004,
     "status": "ok",
     "timestamp": 1740724149360,
     "user": {
      "displayName": "Pratik Kumbhar",
      "userId": "07678728570596162436"
     },
     "user_tz": -330
    },
    "id": "nWwH9c1ePn0h",
    "outputId": "c26a6262-c786-4046-d2f1-ffcc9127e975"
   },
   "outputs": [
    {
     "name": "stdout",
     "output_type": "stream",
     "text": [
      "✅ Train and test datasets saved successfully!\n",
      "✅ Filenames for training and testing saved!\n",
      "✅ Model trained and saved as data/heart_sounds/trained_model.pkl\n",
      "✅ Model Accuracy: 99.00%\n",
      "              precision    recall  f1-score   support\n",
      "\n",
      "           0       1.00      1.00      1.00        44\n",
      "           1       0.97      1.00      0.99        33\n",
      "           2       1.00      1.00      1.00        48\n",
      "           3       1.00      0.97      0.99        37\n",
      "           4       0.97      0.97      0.97        38\n",
      "\n",
      "    accuracy                           0.99       200\n",
      "   macro avg       0.99      0.99      0.99       200\n",
      "weighted avg       0.99      0.99      0.99       200\n",
      "\n"
     ]
    }
   ],
   "source": [
    "import os\n",
    "import numpy as np\n",
    "import pandas as pd\n",
    "from sklearn.model_selection import train_test_split\n",
    "from sklearn.ensemble import RandomForestClassifier\n",
    "from sklearn.metrics import accuracy_score, classification_report\n",
    "import pickle\n",
    "\n",
    "# Define dataset path\n",
    "DATASET_PATH = \"data/heart_sounds/\"\n",
    "TRAIN_FOLDER = os.path.join(DATASET_PATH, \"train\")\n",
    "TEST_FOLDER = os.path.join(DATASET_PATH, \"test\")\n",
    "MODEL_FILE = os.path.join(DATASET_PATH, \"trained_model.pkl\")\n",
    "\n",
    "# Create folders if they don’t exist\n",
    "os.makedirs(TRAIN_FOLDER, exist_ok=True)\n",
    "os.makedirs(TEST_FOLDER, exist_ok=True)\n",
    "\n",
    "# Load metadata file (which contains filenames and labels)\n",
    "metadata_file = os.path.join(DATASET_PATH, \"metadata.csv\")\n",
    "df = pd.read_csv(metadata_file)\n",
    "\n",
    "# Load extracted features\n",
    "X = np.load(os.path.join(DATASET_PATH, \"X.npy\"))\n",
    "y = np.load(os.path.join(DATASET_PATH, \"y.npy\"))\n",
    "\n",
    "# Split dataset into training (80%) and testing (20%)\n",
    "X_train, X_test, y_train, y_test, train_indices, test_indices = train_test_split(\n",
    "    X, y, df[\"filename\"], test_size=0.2, random_state=42\n",
    ")\n",
    "\n",
    "# Save train and test datasets separately\n",
    "np.save(os.path.join(TRAIN_FOLDER, \"X_train.npy\"), X_train)\n",
    "np.save(os.path.join(TRAIN_FOLDER, \"y_train.npy\"), y_train)\n",
    "np.save(os.path.join(TEST_FOLDER, \"X_test.npy\"), X_test)\n",
    "np.save(os.path.join(TEST_FOLDER, \"y_test.npy\"), y_test)\n",
    "\n",
    "# Save filenames for reference\n",
    "train_indices.to_csv(os.path.join(TRAIN_FOLDER, \"train_files.csv\"), index=False)\n",
    "test_indices.to_csv(os.path.join(TEST_FOLDER, \"test_files.csv\"), index=False)\n",
    "\n",
    "print(\"✅ Train and test datasets saved successfully!\")\n",
    "print(\"✅ Filenames for training and testing saved!\")\n",
    "\n",
    "# Train Random Forest Classifier\n",
    "clf = RandomForestClassifier(n_estimators=100, random_state=42)\n",
    "clf.fit(X_train, y_train)\n",
    "\n",
    "# Save trained model\n",
    "with open(MODEL_FILE, \"wb\") as model_file:\n",
    "    pickle.dump(clf, model_file)\n",
    "\n",
    "print(f\"✅ Model trained and saved as {MODEL_FILE}\")\n",
    "\n",
    "# Make predictions on the test set\n",
    "y_pred = clf.predict(X_test)\n",
    "\n",
    "# Evaluate Model\n",
    "accuracy = accuracy_score(y_test, y_pred)\n",
    "print(f\"✅ Model Accuracy: {accuracy * 100:.2f}%\")\n",
    "\n",
    "# Print Classification Report\n",
    "print(classification_report(y_test, y_pred))\n"
   ]
  },
  {
   "cell_type": "code",
   "execution_count": null,
   "metadata": {
    "colab": {
     "base_uri": "https://localhost:8080/"
    },
    "executionInfo": {
     "elapsed": 5575,
     "status": "ok",
     "timestamp": 1740724479621,
     "user": {
      "displayName": "Pratik Kumbhar",
      "userId": "07678728570596162436"
     },
     "user_tz": -330
    },
    "id": "VWB45K1RQBua",
    "outputId": "1e1e3e28-cd90-4b01-ce29-9c87666d690a"
   },
   "outputs": [
    {
     "name": "stdout",
     "output_type": "stream",
     "text": [
      "✅ Model saved successfully as data/heart_sounds/trained_model.pkl\n"
     ]
    }
   ],
   "source": [
    "import pickle\n",
    "import os\n",
    "from sklearn.ensemble import RandomForestClassifier\n",
    "from sklearn.model_selection import train_test_split\n",
    "import numpy as np\n",
    "\n",
    "# Define dataset path\n",
    "DATASET_PATH = \"data/heart_sounds/\"\n",
    "MODEL_FILE = os.path.join(DATASET_PATH, \"trained_model.pkl\")\n",
    "\n",
    "# Load extracted features\n",
    "X = np.load(os.path.join(DATASET_PATH, \"X.npy\"))\n",
    "y = np.load(os.path.join(DATASET_PATH, \"y.npy\"))\n",
    "\n",
    "# Split dataset into training (80%) and testing (20%)\n",
    "X_train, X_test, y_train, y_test = train_test_split(X, y, test_size=0.2, random_state=42)\n",
    "\n",
    "# Train Random Forest Classifier\n",
    "clf = RandomForestClassifier(n_estimators=100, random_state=42)\n",
    "clf.fit(X_train, y_train)\n",
    "\n",
    "# Save trained model to a file\n",
    "with open(MODEL_FILE, \"wb\") as model_file:\n",
    "    pickle.dump(clf, model_file)\n",
    "\n",
    "print(f\"✅ Model saved successfully as {MODEL_FILE}\")\n"
   ]
  },
  {
   "cell_type": "code",
   "execution_count": null,
   "metadata": {
    "colab": {
     "base_uri": "https://localhost:8080/"
    },
    "executionInfo": {
     "elapsed": 73,
     "status": "ok",
     "timestamp": 1740724589274,
     "user": {
      "displayName": "Pratik Kumbhar",
      "userId": "07678728570596162436"
     },
     "user_tz": -330
    },
    "id": "p9JJ0k25RHVF",
    "outputId": "7f1fe7f2-8439-49b9-8a07-9fe6f6a14ea1"
   },
   "outputs": [
    {
     "name": "stdout",
     "output_type": "stream",
     "text": [
      "Copied trained_model.pkl to ./data/\n"
     ]
    }
   ],
   "source": [
    "import shutil\n",
    "import os\n",
    "\n",
    "def copy_trained_model(source_folder, destination_folder, filename=\"trained_model.pkl\"):\n",
    "    \"\"\"\n",
    "    Copy the trained_model.pkl file from the source folder to the destination folder.\n",
    "\n",
    "    :param source_folder: Path to the folder containing the trained_model.pkl file.\n",
    "    :param destination_folder: Path to the folder where the file should be copied.\n",
    "    :param filename: Name of the model file (default is 'trained_model.pkl').\n",
    "    \"\"\"\n",
    "    source_path = os.path.join(source_folder, filename)\n",
    "    destination_path = os.path.join(destination_folder, filename)\n",
    "\n",
    "    if os.path.exists(source_path):\n",
    "        shutil.copy(source_path, destination_path)\n",
    "        print(f\"Copied {filename} to {destination_folder}\")\n",
    "    else:\n",
    "        print(f\"Error: {filename} not found in {source_folder}\")\n",
    "\n",
    "# Example Usage\n",
    "source_folder = \"./data/heart_sounds\"  # Change this to the actual source directory\n",
    "destination_folder = \"./data/\"  # Change this to the actual destination directory\n",
    "\n",
    "copy_trained_model(source_folder, destination_folder)"
   ]
  },
  {
   "cell_type": "code",
   "execution_count": null,
   "metadata": {
    "colab": {
     "base_uri": "https://localhost:8080/",
     "height": 453
    },
    "executionInfo": {
     "elapsed": 13292,
     "status": "error",
     "timestamp": 1740734803833,
     "user": {
      "displayName": "Pratik Kumbhar",
      "userId": "07678728570596162436"
     },
     "user_tz": -330
    },
    "id": "wkaAnt3aRnCG",
    "outputId": "ca4a9274-90b4-4f0c-9a26-43748bf6cbeb"
   },
   "outputs": [],
   "source": [
    "import librosa\n",
    "import numpy as np\n",
    "import os\n",
    "\n",
    "# Define dataset path\n",
    "DATASET_PATH = \"data/heart_sounds/\"\n",
    "MODEL_FILE = os.path.join(DATASET_PATH, \"trained_model.pkl\")  # If saving the model\n",
    "NEW_AUDIO_FILE = \"data/test/rpa.wav\"  # Provide your test file\n",
    "\n",
    "# Function to extract MFCC features from a new audio file\n",
    "def extract_features_from_audio(file_path, max_pad_length=50):\n",
    "    try:\n",
    "        y, sr = librosa.load(file_path, sr=22050)  # Load audio file\n",
    "        mfcc = librosa.feature.mfcc(y=y, sr=sr, n_mfcc=40)  # Extract 40 MFCCs\n",
    "        pad_width = max_pad_length - mfcc.shape[1]\n",
    "        if pad_width > 0:\n",
    "            mfcc = np.pad(mfcc, pad_width=((0, 0), (0, pad_width)), mode='constant')\n",
    "        else:\n",
    "            mfcc = mfcc[:, :max_pad_length]  # Trim to max_pad_length\n",
    "        return mfcc.flatten()  # Convert to 1D\n",
    "    except Exception as e:\n",
    "        print(f\"Error processing {file_path}: {e}\")\n",
    "        return np.zeros(40 * max_pad_length)  # Return empty feature if error\n",
    "\n",
    "# Extract features from the new audio file\n",
    "new_audio_features = extract_features_from_audio(NEW_AUDIO_FILE)\n",
    "\n",
    "# Reshape for prediction\n",
    "X_new = np.array(new_audio_features).reshape(1, -1)\n",
    "\n",
    "# Load trained model (if needed)\n",
    "from sklearn.ensemble import RandomForestClassifier\n",
    "from sklearn.model_selection import train_test_split\n",
    "from sklearn.metrics import accuracy_score, classification_report\n",
    "import pickle\n",
    "\n",
    "# Load saved features\n",
    "X = np.load(os.path.join(DATASET_PATH, \"train/X_train.npy\"))\n",
    "y = np.load(os.path.join(DATASET_PATH, \"train/y_train.npy\"))\n",
    "\n",
    "# Split dataset (Same as before)\n",
    "X_train, X_test, y_train, y_test = train_test_split(X, y, test_size=0.2, random_state=42)\n",
    "\n",
    "# Train Random Forest Classifier\n",
    "clf = RandomForestClassifier(n_estimators=100, random_state=42)\n",
    "clf.fit(X_train, y_train)\n",
    "\n",
    "# Predict on the new audio file\n",
    "predicted_label = clf.predict(X_new)[0]\n",
    "\n",
    "# Define label meanings\n",
    "label_map = {\n",
    "    0: \"Normal Heart Sound\",\n",
    "    1: \"Disease 1\",\n",
    "    2: \"Disease 2\",\n",
    "    3: \"Disease 3\",\n",
    "    4: \"Disease 4\"\n",
    "}\n",
    "\n",
    "# Print the prediction\n",
    "print(f\"✅ The model predicts: {label_map[predicted_label]}\")\n"
   ]
  }
 ],
 "metadata": {
  "colab": {
   "authorship_tag": "ABX9TyOmfMt2Q1rM2ERPveoLVTGo",
   "provenance": []
  },
  "kernelspec": {
   "display_name": "Python 3",
   "name": "python3"
  },
  "language_info": {
   "codemirror_mode": {
    "name": "ipython",
    "version": 3
   },
   "file_extension": ".py",
   "mimetype": "text/x-python",
   "name": "python",
   "nbconvert_exporter": "python",
   "pygments_lexer": "ipython3",
   "version": "3.12.2"
  }
 },
 "nbformat": 4,
 "nbformat_minor": 0
}
